{
 "cells": [
  {
   "cell_type": "code",
   "execution_count": 4,
   "id": "b0b68c51-903d-4de0-bcec-d7747a8f5678",
   "metadata": {},
   "outputs": [
    {
     "name": "stdout",
     "output_type": "stream",
     "text": [
      "Prowess rows: 5787\n",
      "ACETP unique rows added: 1459\n",
      "Final shape: (7246, 15)\n"
     ]
    }
   ],
   "source": [
    "import pandas as pd\n",
    "from scipy.stats.mstats import winsorize \n",
    "from pathlib import Path\n",
    "\n",
    "# Get the base directory = parent of the current notebook\n",
    "BASE_DIR = Path.cwd().parent   \n",
    "\n",
    "# build data path\n",
    "data_path = BASE_DIR / \"1. data\" / \"processed\"\n",
    "\n",
    "# read both files\n",
    "df_prowess = pd.read_csv(data_path / \"Prowess_IT_Data_Processed.csv\")\n",
    "df_acetp   = pd.read_csv(data_path / \"ACETP_IT_Data_Processed.csv\")\n",
    "\n",
    "# add source column\n",
    "df_prowess[\"source\"] = \"prowess\"\n",
    "df_acetp[\"source\"]   = \"acetp\"\n",
    "\n",
    "# align columns using Prowess column order (plus 'source')\n",
    "common_cols = [col for col in df_prowess.columns if col in df_acetp.columns]\n",
    "\n",
    "# filter ACETP rows where cin is not in Prowess\n",
    "df_acetp_unique = df_acetp[~df_acetp[\"cin\"].isin(df_prowess[\"cin\"])]\n",
    "\n",
    "# combine\n",
    "df_final = pd.concat([df_prowess[common_cols], df_acetp_unique[common_cols]], ignore_index=True)\n",
    "\n",
    "print(\"Prowess rows:\", df_prowess.shape[0])\n",
    "print(\"ACETP unique rows added:\", df_acetp_unique.shape[0])\n",
    "print(\"Final shape:\", df_final.shape)\n",
    "\n",
    "df_final[\"pli\"] = winsorize(df_final[\"pli\"], limits=[0.01, 0.01])\n",
    "\n",
    "# save to CSV\n",
    "df_final.to_csv(data_path / \"Combined_IT_Data_Final.csv\", index=False)\n"
   ]
  },
  {
   "cell_type": "code",
   "execution_count": null,
   "id": "941e176d-3b02-4329-8a0a-a979df941e84",
   "metadata": {},
   "outputs": [],
   "source": []
  }
 ],
 "metadata": {
  "kernelspec": {
   "display_name": "Python 3 (ipykernel)",
   "language": "python",
   "name": "python3"
  },
  "language_info": {
   "codemirror_mode": {
    "name": "ipython",
    "version": 3
   },
   "file_extension": ".py",
   "mimetype": "text/x-python",
   "name": "python",
   "nbconvert_exporter": "python",
   "pygments_lexer": "ipython3",
   "version": "3.12.6"
  }
 },
 "nbformat": 4,
 "nbformat_minor": 5
}
